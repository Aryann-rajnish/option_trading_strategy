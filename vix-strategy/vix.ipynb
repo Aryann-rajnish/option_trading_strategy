{
 "cells": [
  {
   "cell_type": "code",
   "execution_count": 1,
   "metadata": {},
   "outputs": [],
   "source": [
    "import pandas as pd\n",
    "import quandl\n",
    "import matplotlib.pyplot as plt\n",
    "import math"
   ]
  },
  {
   "cell_type": "code",
   "execution_count": 2,
   "metadata": {},
   "outputs": [],
   "source": [
    "def fetch_data(string1, string2, string3, filename):\n",
    "    w = quandl.get(string1, authtoken = string2, start_date = string3)\n",
    "    w.to_csv(filename)\n",
    "    w = pd.read_csv(filename)\n",
    "    return w"
   ]
  },
  {
   "cell_type": "code",
   "execution_count": null,
   "metadata": {},
   "outputs": [],
   "source": [
    "#data1 = quandl.get(\"CHRIS/CME_SP1\", authtoken = \"5Fxm1Dgr5fZvbyeVQUpG\" , start_date = \"2019-01-01\")"
   ]
  },
  {
   "cell_type": "code",
   "execution_count": 3,
   "metadata": {},
   "outputs": [],
   "source": [
    "Data = fetch_data(\"CHRIS/CME_SP1\", \"5Fxm1Dgr5fZvbyeVQUpG\", \"2017-07-31\", \"local_future.csv\")\n"
   ]
  },
  {
   "cell_type": "code",
   "execution_count": 5,
   "metadata": {},
   "outputs": [],
   "source": [
    "Data1 = fetch_data(\"CHRIS/CBOE_VX3\", \"5Fxm1Dgr5fZvbyeVQUpG\", \"2017-07-31\", \"local_data.csv\")"
   ]
  },
  {
   "cell_type": "code",
   "execution_count": 9,
   "metadata": {},
   "outputs": [
    {
     "data": {
      "text/plain": [
       "0    2469.7\n",
       "1    2472.8\n",
       "2    2473.5\n",
       "3    2471.5\n",
       "4    2472.7\n",
       "Name: future, dtype: float64"
      ]
     },
     "execution_count": 9,
     "metadata": {},
     "output_type": "execute_result"
    }
   ],
   "source": [
    "Data['future'] = Data['Last']\n",
    "Data['future'].head()"
   ]
  },
  {
   "cell_type": "code",
   "execution_count": 10,
   "metadata": {},
   "outputs": [
    {
     "data": {
      "text/plain": [
       "0    13.15\n",
       "1    13.09\n",
       "2    13.29\n",
       "3    13.45\n",
       "4    13.53\n",
       "Name: VIX, dtype: float64"
      ]
     },
     "execution_count": 10,
     "metadata": {},
     "output_type": "execute_result"
    }
   ],
   "source": [
    "Data['VIX'] = Data1['Close']\n",
    "Data['VIX'].head()"
   ]
  },
  {
   "cell_type": "code",
   "execution_count": 11,
   "metadata": {},
   "outputs": [],
   "source": [
    "# Variables\n",
    "mtm = list()\n",
    "order_details = list()\n",
    "order = list()  #list which contains the orders: BUY / SELL / Do Nothing\n",
    "profit = list()\n",
    "buy_sell = list()\n",
    "stoploss = list()\n",
    "pro = 0  # Profit Variable\n",
    "v = 0  # 'v' is the price at which we buy S&P 500 futures at that particular level of VIX\n",
    "thresh = 22  # VIX threshold for placing buy order\n",
    "change_1 = 5  # % of the buy price to be used for executing a take profit order\n",
    "change_2 = 5  # % of the buy price to be used for executing a stoploss order\n",
    "buy_flag = False\n",
    "Sell_flag = True\n",
    "s = Data['future'].size  # size of VIX dataset\n",
    "c_1 = (1 + (change_1)/float(100))  # c_1 is the value above which the sell order wi;; execute in a successful trade\n",
    "c_2 = (1 - (change_2)/float(100))  # c_2 is the value below a sell order will execute in a stoploss"
   ]
  },
  {
   "cell_type": "code",
   "execution_count": 12,
   "metadata": {},
   "outputs": [
    {
     "name": "stdout",
     "output_type": "stream",
     "text": [
      "0          -0.0\n",
      "1          -0.0\n",
      "2          -0.0\n",
      "3          -0.0\n",
      "4          -0.0\n",
      "5          -0.0\n",
      "6          -0.0\n",
      "7          -0.0\n",
      "8          -0.0\n",
      "9          -0.0\n",
      "10         -0.0\n",
      "11         -0.0\n",
      "12         -0.0\n",
      "13         -0.0\n",
      "14         -0.0\n",
      "15         -0.0\n",
      "16         -0.0\n",
      "17         -0.0\n",
      "18         -0.0\n",
      "19         -0.0\n",
      "20         -0.0\n",
      "21         -0.0\n",
      "22         -0.0\n",
      "23         -0.0\n",
      "24         -0.0\n",
      "25         -0.0\n",
      "26         -0.0\n",
      "27         -0.0\n",
      "28         -0.0\n",
      "29         -0.0\n",
      "         ...   \n",
      "431    159500.0\n",
      "432    159500.0\n",
      "433    159500.0\n",
      "434    159500.0\n",
      "435    159500.0\n",
      "436    159500.0\n",
      "437    159500.0\n",
      "438    159500.0\n",
      "439    159500.0\n",
      "440    159500.0\n",
      "441    159500.0\n",
      "442    159500.0\n",
      "443    159500.0\n",
      "444    159500.0\n",
      "445    159500.0\n",
      "446    159500.0\n",
      "447    159500.0\n",
      "448    159500.0\n",
      "449    159500.0\n",
      "450    159500.0\n",
      "451    159500.0\n",
      "452    159500.0\n",
      "453    159500.0\n",
      "454    159500.0\n",
      "455    159500.0\n",
      "456    159500.0\n",
      "457    159500.0\n",
      "458    159500.0\n",
      "459    159500.0\n",
      "460    159500.0\n",
      "Name: out, dtype: float64\n"
     ]
    },
    {
     "data": {
      "image/png": "[encoded data removed]",
      "text/plain": [
       "<Figure size 432x288 with 1 Axes>"
      ]
     },
     "metadata": {
      "needs_background": "light"
     },
     "output_type": "display_data"
    }
   ],
   "source": [
    "for i in range(s):\n",
    "    pro = 0\n",
    "\n",
    "    if(Data['VIX'][i]>= thresh and (not buy_flag)):\n",
    "        order_details = [-1, \"Buy\", \"0\", \"Position Taken\"]\n",
    "        buy_flag = True\n",
    "        Sell_flag = False\n",
    "        v = Data['future'][i]\n",
    "\n",
    "    elif(Data['future'][i] >= (c_1) * v and (not Sell_flag)):\n",
    "        buy_flag = False\n",
    "        Sell_flag = True\n",
    "        pro = (Data['future'][i] - v)\n",
    "        order_details = [1, \"Sell\", \"0\", \"Position Closed\"]\n",
    "\n",
    "    elif(Data['future'][i] <= (c_2)*v and (not Sell_flag)):\n",
    "        buy_flag = False\n",
    "        Sell_flag = True\n",
    "        pro = (Data['future'][i] - v)\n",
    "        order_details = [1, \"Sell\", \"Stoploss Executed\", \"Position Closed\"]\n",
    "\n",
    "    else:\n",
    "        if(buy_flag == 1 ):\n",
    "            x = (Data['future'][i] - v) * 500 * 2\n",
    "        else:\n",
    "            x = \"0\"\n",
    "        order_details = [0, \"No Trade\", \"0\", x]\n",
    "\n",
    "\n",
    "    profit.append(pro)\n",
    "    order.append(order_details[0])\n",
    "    buy_sell.append(order_details[1])\n",
    "    stoploss.append(order_details[2])\n",
    "    mtm.append(order_details[3])\n",
    "\n",
    "Data['placed_order'] = pd.Series(order)  # Converting list into Panda Series\n",
    "Data['cost'] = - (Data['placed_order'].multiply(Data['future'])) * 500 * 2  #  Cost of each transaction\n",
    "Data['out'] = Data['cost'].cumsum()   # Out is the cumulative cost profit / loss after transaction till now\n",
    "Data['buy_sell'] = pd.Series(buy_sell)\n",
    "Data['profit'] = -pd.Series(profit) * 500 * 2\n",
    "Data['stoploss'] = pd.Series(stoploss)\n",
    "Data['mtm'] = pd.Series(mtm)\n",
    "\n",
    "print(Data['out'])\n",
    "\n",
    "output = pd.DataFrame() # Final output to be stored in excel file\n",
    "output['date'] = Data['Date']\n",
    "output['Close'] = Data['future']\n",
    "output['VIX'] = Data['VIX']\n",
    "output['placed_order'] = Data['placed_order']\n",
    "output['buy_sell'] = Data['buy_sell']\n",
    "output['Profit'] = Data['profit']\n",
    "output['mtm'] = Data['mtm']\n",
    "output['stoploss'] = Data['stoploss']\n",
    "\n",
    "output.to_excel('VIX_SL_output.xlsx', sheet_name='Sheet1')\n",
    "\n",
    "plt.plot(Data['out'])\n",
    "plt.show()"
   ]
  },
  {
   "cell_type": "code",
   "execution_count": null,
   "metadata": {},
   "outputs": [],
   "source": []
  }
 ],
 "metadata": {
  "kernelspec": {
   "display_name": "Python 3",
   "language": "python",
   "name": "python3"
  },
  "language_info": {
   "codemirror_mode": {
    "name": "ipython",
    "version": 3
   },
   "file_extension": ".py",
   "mimetype": "text/x-python",
   "name": "python",
   "nbconvert_exporter": "python",
   "pygments_lexer": "ipython3",
   "version": "3.6.7"
  }
 },
 "nbformat": 4,
 "nbformat_minor": 2
}
